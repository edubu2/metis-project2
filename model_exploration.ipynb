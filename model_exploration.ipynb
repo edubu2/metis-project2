{
 "cells": [
  {
   "cell_type": "code",
   "execution_count": 1,
   "metadata": {},
   "outputs": [],
   "source": [
    "import pandas as pd\n",
    "import numpy as np\n",
    "\n",
    "from clean import clean_games"
   ]
  },
  {
   "cell_type": "code",
   "execution_count": 2,
   "metadata": {},
   "outputs": [],
   "source": [
    "game_df = clean_games(\"data/games_scraped.pickle\")"
   ]
  },
  {
   "cell_type": "code",
   "execution_count": 3,
   "metadata": {},
   "outputs": [],
   "source": [
    "pd.set_option(\"display.max_columns\", 101)\n",
    "pd.set_option(\"display.max_rows\", 73)"
   ]
  },
  {
   "cell_type": "code",
   "execution_count": 4,
   "metadata": {},
   "outputs": [
    {
     "data": {
      "text/html": [
       "<div>\n",
       "<style scoped>\n",
       "    .dataframe tbody tr th:only-of-type {\n",
       "        vertical-align: middle;\n",
       "    }\n",
       "\n",
       "    .dataframe tbody tr th {\n",
       "        vertical-align: top;\n",
       "    }\n",
       "\n",
       "    .dataframe thead th {\n",
       "        text-align: right;\n",
       "    }\n",
       "</style>\n",
       "<table border=\"1\" class=\"dataframe\">\n",
       "  <thead>\n",
       "    <tr style=\"text-align: right;\">\n",
       "      <th></th>\n",
       "      <th>game_id</th>\n",
       "      <th>team</th>\n",
       "      <th>opp</th>\n",
       "      <th>prev_rush_yds_off</th>\n",
       "      <th>prev_rush_yds_off_opp</th>\n",
       "      <th>roll3_margin</th>\n",
       "      <th>roll3_margin_opp</th>\n",
       "    </tr>\n",
       "  </thead>\n",
       "  <tbody>\n",
       "    <tr>\n",
       "      <th>2946</th>\n",
       "      <td>chi-gnb-1960-12-04</td>\n",
       "      <td>chi</td>\n",
       "      <td>gnb</td>\n",
       "      <td>221.0</td>\n",
       "      <td>118.0</td>\n",
       "      <td>9.000</td>\n",
       "      <td>6.333</td>\n",
       "    </tr>\n",
       "    <tr>\n",
       "      <th>7479</th>\n",
       "      <td>chi-gnb-1960-12-04</td>\n",
       "      <td>gnb</td>\n",
       "      <td>chi</td>\n",
       "      <td>118.0</td>\n",
       "      <td>221.0</td>\n",
       "      <td>6.333</td>\n",
       "      <td>9.000</td>\n",
       "    </tr>\n",
       "  </tbody>\n",
       "</table>\n",
       "</div>"
      ],
      "text/plain": [
       "                 game_id team  opp  prev_rush_yds_off  prev_rush_yds_off_opp  \\\n",
       "2946  chi-gnb-1960-12-04  chi  gnb              221.0                  118.0   \n",
       "7479  chi-gnb-1960-12-04  gnb  chi              118.0                  221.0   \n",
       "\n",
       "      roll3_margin  roll3_margin_opp  \n",
       "2946         9.000             6.333  \n",
       "7479         6.333             9.000  "
      ]
     },
     "execution_count": 4,
     "metadata": {},
     "output_type": "execute_result"
    }
   ],
   "source": [
    "mask = (game_df.game_id == 'chi-gnb-1960-12-04')\n",
    "game_df[mask][['game_id', 'team', 'opp', 'prev_rush_yds_off',\n",
    "                 'prev_rush_yds_off_opp', 'roll3_margin', 'roll3_margin_opp']]"
   ]
  },
  {
   "cell_type": "code",
   "execution_count": null,
   "metadata": {},
   "outputs": [],
   "source": []
  }
 ],
 "metadata": {
  "kernelspec": {
   "display_name": "Python 3",
   "language": "python",
   "name": "python3"
  },
  "language_info": {
   "codemirror_mode": {
    "name": "ipython",
    "version": 3
   },
   "file_extension": ".py",
   "mimetype": "text/x-python",
   "name": "python",
   "nbconvert_exporter": "python",
   "pygments_lexer": "ipython3",
   "version": "3.8.5"
  }
 },
 "nbformat": 4,
 "nbformat_minor": 4
}
