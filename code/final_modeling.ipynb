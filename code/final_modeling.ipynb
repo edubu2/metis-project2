{
 "cells": [
  {
   "cell_type": "markdown",
   "id": "bizarre-hacker",
   "metadata": {},
   "source": [
    "# Predicting the Margin of NFL Games using linear regression"
   ]
  },
  {
   "cell_type": "code",
   "execution_count": 1,
   "id": "apparent-garden",
   "metadata": {},
   "outputs": [],
   "source": [
    "import pandas as pd\n",
    "import numpy as np\n",
    "\n",
    "from sklearn.model_selection import KFold, train_test_split\n",
    "from sklearn.preprocessing import StandardScaler\n",
    "from sklearn.linear_model import LinearRegression\n",
    "\n",
    "import matplotlib.pyplot as plt\n",
    "import seaborn as sns\n",
    "\n",
    "from clean3 import clean_games"
   ]
  },
  {
   "cell_type": "code",
   "execution_count": 2,
   "id": "sublime-preliminary",
   "metadata": {},
   "outputs": [],
   "source": [
    "# gather & pre-process our data (for details, see clean_game_data.ipynb and clean3.py)\n",
    "df = clean_games('data/games.pickle', start_year=1990)"
   ]
  },
  {
   "cell_type": "code",
   "execution_count": 6,
   "id": "distinguished-holder",
   "metadata": {},
   "outputs": [],
   "source": [
    "game_df = df.copy() # to prevent needing to rerun clean_games"
   ]
  },
  {
   "cell_type": "markdown",
   "id": "asian-smell",
   "metadata": {},
   "source": [
    "Now, let's model the features we refined in feature_engineering.ipynb using the standard Linear Regression model."
   ]
  },
  {
   "cell_type": "code",
   "execution_count": 10,
   "id": "restricted-bradford",
   "metadata": {},
   "outputs": [
    {
     "name": "stdout",
     "output_type": "stream",
     "text": [
      "Number of Features:  19\n"
     ]
    }
   ],
   "source": [
    "features = [\n",
    "    'season_year',\n",
    "    'team_home_game',\n",
    "    'ewma_team_home_game',\n",
    "    'ewma10_margin',\n",
    "    'ewma10_wins_opp',\n",
    "    'roll19_wins',\n",
    "    'roll19_margin_opp',\n",
    "    'ewma_margin_opp',\n",
    "    'ewma_margin',\n",
    "    'ewma_pass_yds_def',\n",
    "    'ewma_total_yds_def',\n",
    "    'ewma_total_yds_def_opp',\n",
    "    'ewma_result_win_opp',\n",
    "    'ewma_third_conv_pct',\n",
    "    'ewma_third_conv_pct_opp',\n",
    "    'ewma_pass_cmp_def',\n",
    "    'ewma_pass_cmp_perc_def', \n",
    "    'ewma_pass_cmp_perc_def_opp', \n",
    "    'ewma4_margin_opp',\n",
    "]\n",
    "\n",
    "target = 'margin'\n",
    "\n",
    "print(\"Number of Features: \", len(features))"
   ]
  },
  {
   "cell_type": "code",
   "execution_count": 11,
   "id": "verbal-malaysia",
   "metadata": {},
   "outputs": [
    {
     "ename": "KeyError",
     "evalue": "\"['ewma_third_conv_pct_opp', 'ewma_total_yds_def', 'ewma_total_yds_def_opp', 'ewma_third_conv_pct'] not in index\"",
     "output_type": "error",
     "traceback": [
      "\u001b[0;31m---------------------------------------------------------------------------\u001b[0m",
      "\u001b[0;31mKeyError\u001b[0m                                  Traceback (most recent call last)",
      "\u001b[0;32m<ipython-input-11-ae60cecc4037>\u001b[0m in \u001b[0;36m<module>\u001b[0;34m\u001b[0m\n\u001b[0;32m----> 1\u001b[0;31m \u001b[0mX\u001b[0m \u001b[0;34m=\u001b[0m \u001b[0mgame_df\u001b[0m\u001b[0;34m[\u001b[0m\u001b[0mfeatures\u001b[0m\u001b[0;34m]\u001b[0m\u001b[0;34m\u001b[0m\u001b[0;34m\u001b[0m\u001b[0m\n\u001b[0m\u001b[1;32m      2\u001b[0m \u001b[0my\u001b[0m \u001b[0;34m=\u001b[0m \u001b[0mgame_df\u001b[0m\u001b[0;34m[\u001b[0m\u001b[0mtarget\u001b[0m\u001b[0;34m]\u001b[0m\u001b[0;34m\u001b[0m\u001b[0;34m\u001b[0m\u001b[0m\n",
      "\u001b[0;32m~/anaconda3/lib/python3.8/site-packages/pandas/core/frame.py\u001b[0m in \u001b[0;36m__getitem__\u001b[0;34m(self, key)\u001b[0m\n\u001b[1;32m   3028\u001b[0m             \u001b[0;32mif\u001b[0m \u001b[0mis_iterator\u001b[0m\u001b[0;34m(\u001b[0m\u001b[0mkey\u001b[0m\u001b[0;34m)\u001b[0m\u001b[0;34m:\u001b[0m\u001b[0;34m\u001b[0m\u001b[0;34m\u001b[0m\u001b[0m\n\u001b[1;32m   3029\u001b[0m                 \u001b[0mkey\u001b[0m \u001b[0;34m=\u001b[0m \u001b[0mlist\u001b[0m\u001b[0;34m(\u001b[0m\u001b[0mkey\u001b[0m\u001b[0;34m)\u001b[0m\u001b[0;34m\u001b[0m\u001b[0;34m\u001b[0m\u001b[0m\n\u001b[0;32m-> 3030\u001b[0;31m             \u001b[0mindexer\u001b[0m \u001b[0;34m=\u001b[0m \u001b[0mself\u001b[0m\u001b[0;34m.\u001b[0m\u001b[0mloc\u001b[0m\u001b[0;34m.\u001b[0m\u001b[0m_get_listlike_indexer\u001b[0m\u001b[0;34m(\u001b[0m\u001b[0mkey\u001b[0m\u001b[0;34m,\u001b[0m \u001b[0maxis\u001b[0m\u001b[0;34m=\u001b[0m\u001b[0;36m1\u001b[0m\u001b[0;34m,\u001b[0m \u001b[0mraise_missing\u001b[0m\u001b[0;34m=\u001b[0m\u001b[0;32mTrue\u001b[0m\u001b[0;34m)\u001b[0m\u001b[0;34m[\u001b[0m\u001b[0;36m1\u001b[0m\u001b[0;34m]\u001b[0m\u001b[0;34m\u001b[0m\u001b[0;34m\u001b[0m\u001b[0m\n\u001b[0m\u001b[1;32m   3031\u001b[0m \u001b[0;34m\u001b[0m\u001b[0m\n\u001b[1;32m   3032\u001b[0m         \u001b[0;31m# take() does not accept boolean indexers\u001b[0m\u001b[0;34m\u001b[0m\u001b[0;34m\u001b[0m\u001b[0;34m\u001b[0m\u001b[0m\n",
      "\u001b[0;32m~/anaconda3/lib/python3.8/site-packages/pandas/core/indexing.py\u001b[0m in \u001b[0;36m_get_listlike_indexer\u001b[0;34m(self, key, axis, raise_missing)\u001b[0m\n\u001b[1;32m   1263\u001b[0m             \u001b[0mkeyarr\u001b[0m\u001b[0;34m,\u001b[0m \u001b[0mindexer\u001b[0m\u001b[0;34m,\u001b[0m \u001b[0mnew_indexer\u001b[0m \u001b[0;34m=\u001b[0m \u001b[0max\u001b[0m\u001b[0;34m.\u001b[0m\u001b[0m_reindex_non_unique\u001b[0m\u001b[0;34m(\u001b[0m\u001b[0mkeyarr\u001b[0m\u001b[0;34m)\u001b[0m\u001b[0;34m\u001b[0m\u001b[0;34m\u001b[0m\u001b[0m\n\u001b[1;32m   1264\u001b[0m \u001b[0;34m\u001b[0m\u001b[0m\n\u001b[0;32m-> 1265\u001b[0;31m         \u001b[0mself\u001b[0m\u001b[0;34m.\u001b[0m\u001b[0m_validate_read_indexer\u001b[0m\u001b[0;34m(\u001b[0m\u001b[0mkeyarr\u001b[0m\u001b[0;34m,\u001b[0m \u001b[0mindexer\u001b[0m\u001b[0;34m,\u001b[0m \u001b[0maxis\u001b[0m\u001b[0;34m,\u001b[0m \u001b[0mraise_missing\u001b[0m\u001b[0;34m=\u001b[0m\u001b[0mraise_missing\u001b[0m\u001b[0;34m)\u001b[0m\u001b[0;34m\u001b[0m\u001b[0;34m\u001b[0m\u001b[0m\n\u001b[0m\u001b[1;32m   1266\u001b[0m         \u001b[0;32mreturn\u001b[0m \u001b[0mkeyarr\u001b[0m\u001b[0;34m,\u001b[0m \u001b[0mindexer\u001b[0m\u001b[0;34m\u001b[0m\u001b[0;34m\u001b[0m\u001b[0m\n\u001b[1;32m   1267\u001b[0m \u001b[0;34m\u001b[0m\u001b[0m\n",
      "\u001b[0;32m~/anaconda3/lib/python3.8/site-packages/pandas/core/indexing.py\u001b[0m in \u001b[0;36m_validate_read_indexer\u001b[0;34m(self, key, indexer, axis, raise_missing)\u001b[0m\n\u001b[1;32m   1313\u001b[0m             \u001b[0;32mif\u001b[0m \u001b[0mraise_missing\u001b[0m\u001b[0;34m:\u001b[0m\u001b[0;34m\u001b[0m\u001b[0;34m\u001b[0m\u001b[0m\n\u001b[1;32m   1314\u001b[0m                 \u001b[0mnot_found\u001b[0m \u001b[0;34m=\u001b[0m \u001b[0mlist\u001b[0m\u001b[0;34m(\u001b[0m\u001b[0mset\u001b[0m\u001b[0;34m(\u001b[0m\u001b[0mkey\u001b[0m\u001b[0;34m)\u001b[0m \u001b[0;34m-\u001b[0m \u001b[0mset\u001b[0m\u001b[0;34m(\u001b[0m\u001b[0max\u001b[0m\u001b[0;34m)\u001b[0m\u001b[0;34m)\u001b[0m\u001b[0;34m\u001b[0m\u001b[0;34m\u001b[0m\u001b[0m\n\u001b[0;32m-> 1315\u001b[0;31m                 \u001b[0;32mraise\u001b[0m \u001b[0mKeyError\u001b[0m\u001b[0;34m(\u001b[0m\u001b[0;34mf\"{not_found} not in index\"\u001b[0m\u001b[0;34m)\u001b[0m\u001b[0;34m\u001b[0m\u001b[0;34m\u001b[0m\u001b[0m\n\u001b[0m\u001b[1;32m   1316\u001b[0m \u001b[0;34m\u001b[0m\u001b[0m\n\u001b[1;32m   1317\u001b[0m             \u001b[0mnot_found\u001b[0m \u001b[0;34m=\u001b[0m \u001b[0mkey\u001b[0m\u001b[0;34m[\u001b[0m\u001b[0mmissing_mask\u001b[0m\u001b[0;34m]\u001b[0m\u001b[0;34m\u001b[0m\u001b[0;34m\u001b[0m\u001b[0m\n",
      "\u001b[0;31mKeyError\u001b[0m: \"['ewma_third_conv_pct_opp', 'ewma_total_yds_def', 'ewma_total_yds_def_opp', 'ewma_third_conv_pct'] not in index\""
     ]
    }
   ],
   "source": [
    "X = game_df[features]\n",
    "y = game_df[target]"
   ]
  },
  {
   "cell_type": "code",
   "execution_count": 8,
   "id": "horizontal-desire",
   "metadata": {},
   "outputs": [],
   "source": [
    "def split_validate(X, y):\n",
    "    '''\n",
    "    Performs KFold cross-validation on linear regression model and computes model metrics\n",
    "    \n",
    "    Features are scaled using standard scaler.\n",
    "    \n",
    "    Parameters\n",
    "    ----------\n",
    "    X: DataFrame or numpy array of features/independent variables from training set\n",
    "    y: numpy array of target/dependent variable from training set\n",
    "    Returns\n",
    "    ----------\n",
    "    Model metrics with cross-validation: R^2 score for training and validation sets\n",
    "    with each fold, mean R^2 score for validation set across all folds;\n",
    "    mean training/validation score ratios, MAE, RMSE across all folds\n",
    "    '''\n",
    "    kf = KFold(n_splits=5, shuffle=True, random_state=71)   # default values\n",
    "    train_results = []\n",
    "    val_results = []\n",
    "    ratios = []\n",
    "    maes = []\n",
    "    rmses = []\n",
    "    \n",
    "    for train_ind, val_ind in kf.split(X, y):\n",
    "        \n",
    "        # iterate thru 5 shuffled train/validation sets & collect results\n",
    "        X_train, y_train = X[train_ind], y[train_ind]\n",
    "        X_val, y_val = X[val_ind], y[val_ind]\n",
    "        \n",
    "        \n",
    "        model = LinearRegression()\n",
    "        model.fit(X_train, y_train)\n",
    "        y_pred = model.predict(X_val)\n",
    "        train_results.append(model.score(X_train, y_train))\n",
    "        val_results.append(model.score(X_val, y_val))\n",
    "        ratios.append(model.score(X_train, y_train) / model.score(X_val, y_val))\n",
    "        maes.append(mean_absolute_error(y_val, y_pred))\n",
    "        rmses.append(np.sqrt(mean_squared_error(y_val, y_pred)))\n",
    "    print('Linear regression train R^2: ', train_results)\n",
    "    print('Linear regression val R^2: ', val_results)\n",
    "    print(f'Linear regression mean val R^2: {np.mean(val_results):.3f} +- {np.std(r2s_val):.3f}')\n",
    "    print(f'Mean train/val R^2 ratio: {np.mean(ratios):.3f} +- {np.std(ratios):.3f}')\n",
    "    print('Mean MAE: ', np.mean(maes))\n",
    "    print('Mean RMSE: ', np.mean(rmses))\n",
    "    \n",
    "    return model"
   ]
  },
  {
   "cell_type": "code",
   "execution_count": null,
   "id": "adjusted-strength",
   "metadata": {},
   "outputs": [],
   "source": []
  }
 ],
 "metadata": {
  "kernelspec": {
   "display_name": "Python 3",
   "language": "python",
   "name": "python3"
  },
  "language_info": {
   "codemirror_mode": {
    "name": "ipython",
    "version": 3
   },
   "file_extension": ".py",
   "mimetype": "text/x-python",
   "name": "python",
   "nbconvert_exporter": "python",
   "pygments_lexer": "ipython3",
   "version": "3.8.5"
  }
 },
 "nbformat": 4,
 "nbformat_minor": 5
}
